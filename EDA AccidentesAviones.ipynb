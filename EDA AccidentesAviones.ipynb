{
 "cells": [
  {
   "cell_type": "markdown",
   "metadata": {},
   "source": [
    "# EDA de Accidentes Aviones\n",
    "\n"
   ]
  },
  {
   "cell_type": "markdown",
   "metadata": {},
   "source": [
    "### Librerías y Carga de Datos:\n",
    "\n"
   ]
  },
  {
   "cell_type": "code",
   "execution_count": 104,
   "metadata": {},
   "outputs": [],
   "source": [
    "import pandas as pd\n",
    "import matplotlib.pyplot as plt\n",
    "import seaborn as sns\n",
    "import numpy as np\n",
    "from sklearn.metrics import confusion_matrix\n",
    "import re"
   ]
  },
  {
   "cell_type": "code",
   "execution_count": 105,
   "metadata": {},
   "outputs": [],
   "source": [
    "import warnings\n",
    "# Configura las advertencias para que se ignoren\n",
    "warnings.filterwarnings('ignore')"
   ]
  },
  {
   "cell_type": "code",
   "execution_count": 106,
   "metadata": {},
   "outputs": [],
   "source": [
    "df_avion=pd.read_csv('./AccidentesAviones.csv')"
   ]
  },
  {
   "cell_type": "markdown",
   "metadata": {},
   "source": [
    "### Visualizar las primeras filas de los datos"
   ]
  },
  {
   "cell_type": "markdown",
   "metadata": {},
   "source": [
    "Vemos que la primer columna es igual al indice y que los nulos se muestran como '?'"
   ]
  },
  {
   "cell_type": "code",
   "execution_count": 107,
   "metadata": {},
   "outputs": [
    {
     "data": {
      "text/html": [
       "<div>\n",
       "<style scoped>\n",
       "    .dataframe tbody tr th:only-of-type {\n",
       "        vertical-align: middle;\n",
       "    }\n",
       "\n",
       "    .dataframe tbody tr th {\n",
       "        vertical-align: top;\n",
       "    }\n",
       "\n",
       "    .dataframe thead th {\n",
       "        text-align: right;\n",
       "    }\n",
       "</style>\n",
       "<table border=\"1\" class=\"dataframe\">\n",
       "  <thead>\n",
       "    <tr style=\"text-align: right;\">\n",
       "      <th></th>\n",
       "      <th>Unnamed: 0</th>\n",
       "      <th>fecha</th>\n",
       "      <th>HORA declarada</th>\n",
       "      <th>Ruta</th>\n",
       "      <th>OperadOR</th>\n",
       "      <th>flight_no</th>\n",
       "      <th>route</th>\n",
       "      <th>ac_type</th>\n",
       "      <th>registration</th>\n",
       "      <th>cn_ln</th>\n",
       "      <th>all_aboard</th>\n",
       "      <th>PASAJEROS A BORDO</th>\n",
       "      <th>crew_aboard</th>\n",
       "      <th>cantidad de fallecidos</th>\n",
       "      <th>passenger_fatalities</th>\n",
       "      <th>crew_fatalities</th>\n",
       "      <th>ground</th>\n",
       "      <th>summary</th>\n",
       "    </tr>\n",
       "  </thead>\n",
       "  <tbody>\n",
       "    <tr>\n",
       "      <th>0</th>\n",
       "      <td>0</td>\n",
       "      <td>September 17, 1908</td>\n",
       "      <td>1718</td>\n",
       "      <td>Fort Myer, Virginia</td>\n",
       "      <td>Military - U.S. Army</td>\n",
       "      <td>?</td>\n",
       "      <td>Demonstration</td>\n",
       "      <td>Wright Flyer III</td>\n",
       "      <td>?</td>\n",
       "      <td>1</td>\n",
       "      <td>2</td>\n",
       "      <td>1</td>\n",
       "      <td>1</td>\n",
       "      <td>1</td>\n",
       "      <td>1</td>\n",
       "      <td>0</td>\n",
       "      <td>0</td>\n",
       "      <td>During a demonstration flight, a U.S. Army fly...</td>\n",
       "    </tr>\n",
       "    <tr>\n",
       "      <th>1</th>\n",
       "      <td>1</td>\n",
       "      <td>September 07, 1909</td>\n",
       "      <td>?</td>\n",
       "      <td>Juvisy-sur-Orge, France</td>\n",
       "      <td>?</td>\n",
       "      <td>?</td>\n",
       "      <td>Air show</td>\n",
       "      <td>Wright Byplane</td>\n",
       "      <td>SC1</td>\n",
       "      <td>?</td>\n",
       "      <td>1</td>\n",
       "      <td>0</td>\n",
       "      <td>1</td>\n",
       "      <td>1</td>\n",
       "      <td>0</td>\n",
       "      <td>0</td>\n",
       "      <td>0</td>\n",
       "      <td>Eugene Lefebvre was the first pilot to ever be...</td>\n",
       "    </tr>\n",
       "    <tr>\n",
       "      <th>2</th>\n",
       "      <td>2</td>\n",
       "      <td>July 12, 1912</td>\n",
       "      <td>0630</td>\n",
       "      <td>Atlantic City, New Jersey</td>\n",
       "      <td>Military - U.S. Navy</td>\n",
       "      <td>?</td>\n",
       "      <td>Test flight</td>\n",
       "      <td>Dirigible</td>\n",
       "      <td>?</td>\n",
       "      <td>?</td>\n",
       "      <td>5</td>\n",
       "      <td>0</td>\n",
       "      <td>5</td>\n",
       "      <td>5</td>\n",
       "      <td>0</td>\n",
       "      <td>5</td>\n",
       "      <td>0</td>\n",
       "      <td>First U.S. dirigible Akron exploded just offsh...</td>\n",
       "    </tr>\n",
       "    <tr>\n",
       "      <th>3</th>\n",
       "      <td>3</td>\n",
       "      <td>August 06, 1913</td>\n",
       "      <td>?</td>\n",
       "      <td>Victoria, British Columbia, Canada</td>\n",
       "      <td>Private</td>\n",
       "      <td>?</td>\n",
       "      <td>?</td>\n",
       "      <td>Curtiss seaplane</td>\n",
       "      <td>?</td>\n",
       "      <td>?</td>\n",
       "      <td>1</td>\n",
       "      <td>0</td>\n",
       "      <td>1</td>\n",
       "      <td>1</td>\n",
       "      <td>0</td>\n",
       "      <td>1</td>\n",
       "      <td>0</td>\n",
       "      <td>The first fatal airplane accident in Canada oc...</td>\n",
       "    </tr>\n",
       "    <tr>\n",
       "      <th>4</th>\n",
       "      <td>4</td>\n",
       "      <td>September 09, 1913</td>\n",
       "      <td>1830</td>\n",
       "      <td>Over the North Sea</td>\n",
       "      <td>Military - German Navy</td>\n",
       "      <td>?</td>\n",
       "      <td>?</td>\n",
       "      <td>Zeppelin L-1 (airship)</td>\n",
       "      <td>?</td>\n",
       "      <td>?</td>\n",
       "      <td>20</td>\n",
       "      <td>?</td>\n",
       "      <td>?</td>\n",
       "      <td>14</td>\n",
       "      <td>?</td>\n",
       "      <td>?</td>\n",
       "      <td>0</td>\n",
       "      <td>The airship flew into a thunderstorm and encou...</td>\n",
       "    </tr>\n",
       "  </tbody>\n",
       "</table>\n",
       "</div>"
      ],
      "text/plain": [
       "   Unnamed: 0               fecha HORA declarada  \\\n",
       "0           0  September 17, 1908           1718   \n",
       "1           1  September 07, 1909              ?   \n",
       "2           2       July 12, 1912           0630   \n",
       "3           3     August 06, 1913              ?   \n",
       "4           4  September 09, 1913           1830   \n",
       "\n",
       "                                 Ruta                OperadOR flight_no  \\\n",
       "0                 Fort Myer, Virginia    Military - U.S. Army         ?   \n",
       "1             Juvisy-sur-Orge, France                       ?         ?   \n",
       "2           Atlantic City, New Jersey    Military - U.S. Navy         ?   \n",
       "3  Victoria, British Columbia, Canada                 Private         ?   \n",
       "4                  Over the North Sea  Military - German Navy         ?   \n",
       "\n",
       "           route                 ac_type registration cn_ln all_aboard  \\\n",
       "0  Demonstration        Wright Flyer III            ?     1          2   \n",
       "1       Air show          Wright Byplane          SC1     ?          1   \n",
       "2    Test flight               Dirigible            ?     ?          5   \n",
       "3              ?        Curtiss seaplane            ?     ?          1   \n",
       "4              ?  Zeppelin L-1 (airship)            ?     ?         20   \n",
       "\n",
       "  PASAJEROS A BORDO crew_aboard cantidad de fallecidos passenger_fatalities  \\\n",
       "0                 1           1                      1                    1   \n",
       "1                 0           1                      1                    0   \n",
       "2                 0           5                      5                    0   \n",
       "3                 0           1                      1                    0   \n",
       "4                 ?           ?                     14                    ?   \n",
       "\n",
       "  crew_fatalities ground                                            summary  \n",
       "0               0      0  During a demonstration flight, a U.S. Army fly...  \n",
       "1               0      0  Eugene Lefebvre was the first pilot to ever be...  \n",
       "2               5      0  First U.S. dirigible Akron exploded just offsh...  \n",
       "3               1      0  The first fatal airplane accident in Canada oc...  \n",
       "4               ?      0  The airship flew into a thunderstorm and encou...  "
      ]
     },
     "execution_count": 107,
     "metadata": {},
     "output_type": "execute_result"
    }
   ],
   "source": [
    "# Visualizar las primeras filas de los datos\n",
    "df_avion.head()"
   ]
  },
  {
   "cell_type": "markdown",
   "metadata": {},
   "source": [
    "# Información sobre las columnas"
   ]
  },
  {
   "cell_type": "markdown",
   "metadata": {},
   "source": [
    "solo la primer columna es mostrada como int64, y al ser '?' los nulos no los muestra como es debido"
   ]
  },
  {
   "cell_type": "code",
   "execution_count": 108,
   "metadata": {},
   "outputs": [
    {
     "name": "stdout",
     "output_type": "stream",
     "text": [
      "<class 'pandas.core.frame.DataFrame'>\n",
      "RangeIndex: 5008 entries, 0 to 5007\n",
      "Data columns (total 18 columns):\n",
      " #   Column                  Non-Null Count  Dtype \n",
      "---  ------                  --------------  ----- \n",
      " 0   Unnamed: 0              5008 non-null   int64 \n",
      " 1   fecha                   5008 non-null   object\n",
      " 2   HORA declarada          5008 non-null   object\n",
      " 3   Ruta                    5008 non-null   object\n",
      " 4   OperadOR                5008 non-null   object\n",
      " 5   flight_no               5008 non-null   object\n",
      " 6   route                   5008 non-null   object\n",
      " 7   ac_type                 5008 non-null   object\n",
      " 8   registration            5008 non-null   object\n",
      " 9   cn_ln                   5008 non-null   object\n",
      " 10  all_aboard              5008 non-null   object\n",
      " 11  PASAJEROS A BORDO       5008 non-null   object\n",
      " 12  crew_aboard             5008 non-null   object\n",
      " 13  cantidad de fallecidos  5008 non-null   object\n",
      " 14  passenger_fatalities    5008 non-null   object\n",
      " 15  crew_fatalities         5008 non-null   object\n",
      " 16  ground                  5008 non-null   object\n",
      " 17  summary                 5008 non-null   object\n",
      "dtypes: int64(1), object(17)\n",
      "memory usage: 704.4+ KB\n"
     ]
    }
   ],
   "source": [
    "df_avion.info()"
   ]
  },
  {
   "cell_type": "markdown",
   "metadata": {},
   "source": [
    "# Columna igual al index"
   ]
  },
  {
   "cell_type": "code",
   "execution_count": 109,
   "metadata": {},
   "outputs": [],
   "source": [
    "son_iguales = df_avion.index == df_avion.iloc[:,0]"
   ]
  },
  {
   "cell_type": "code",
   "execution_count": 110,
   "metadata": {},
   "outputs": [
    {
     "data": {
      "text/plain": [
       "5008"
      ]
     },
     "execution_count": 110,
     "metadata": {},
     "output_type": "execute_result"
    }
   ],
   "source": [
    "son_iguales.sum()"
   ]
  },
  {
   "cell_type": "code",
   "execution_count": 111,
   "metadata": {},
   "outputs": [
    {
     "data": {
      "text/plain": [
       "5008"
      ]
     },
     "execution_count": 111,
     "metadata": {},
     "output_type": "execute_result"
    }
   ],
   "source": [
    "df_avion.shape[0]"
   ]
  },
  {
   "cell_type": "markdown",
   "metadata": {},
   "source": [
    "Quito la columna que tiene los mismos valores que el index"
   ]
  },
  {
   "cell_type": "code",
   "execution_count": 112,
   "metadata": {},
   "outputs": [],
   "source": [
    "# Elimino la primera columna\n",
    "df_avion = df_avion.iloc[:, 1:]"
   ]
  },
  {
   "cell_type": "code",
   "execution_count": 113,
   "metadata": {},
   "outputs": [
    {
     "data": {
      "text/html": [
       "<div>\n",
       "<style scoped>\n",
       "    .dataframe tbody tr th:only-of-type {\n",
       "        vertical-align: middle;\n",
       "    }\n",
       "\n",
       "    .dataframe tbody tr th {\n",
       "        vertical-align: top;\n",
       "    }\n",
       "\n",
       "    .dataframe thead th {\n",
       "        text-align: right;\n",
       "    }\n",
       "</style>\n",
       "<table border=\"1\" class=\"dataframe\">\n",
       "  <thead>\n",
       "    <tr style=\"text-align: right;\">\n",
       "      <th></th>\n",
       "      <th>fecha</th>\n",
       "      <th>HORA declarada</th>\n",
       "      <th>Ruta</th>\n",
       "      <th>OperadOR</th>\n",
       "      <th>flight_no</th>\n",
       "      <th>route</th>\n",
       "      <th>ac_type</th>\n",
       "      <th>registration</th>\n",
       "      <th>cn_ln</th>\n",
       "      <th>all_aboard</th>\n",
       "      <th>PASAJEROS A BORDO</th>\n",
       "      <th>crew_aboard</th>\n",
       "      <th>cantidad de fallecidos</th>\n",
       "      <th>passenger_fatalities</th>\n",
       "      <th>crew_fatalities</th>\n",
       "      <th>ground</th>\n",
       "      <th>summary</th>\n",
       "    </tr>\n",
       "  </thead>\n",
       "  <tbody>\n",
       "    <tr>\n",
       "      <th>0</th>\n",
       "      <td>September 17, 1908</td>\n",
       "      <td>1718</td>\n",
       "      <td>Fort Myer, Virginia</td>\n",
       "      <td>Military - U.S. Army</td>\n",
       "      <td>?</td>\n",
       "      <td>Demonstration</td>\n",
       "      <td>Wright Flyer III</td>\n",
       "      <td>?</td>\n",
       "      <td>1</td>\n",
       "      <td>2</td>\n",
       "      <td>1</td>\n",
       "      <td>1</td>\n",
       "      <td>1</td>\n",
       "      <td>1</td>\n",
       "      <td>0</td>\n",
       "      <td>0</td>\n",
       "      <td>During a demonstration flight, a U.S. Army fly...</td>\n",
       "    </tr>\n",
       "    <tr>\n",
       "      <th>1</th>\n",
       "      <td>September 07, 1909</td>\n",
       "      <td>?</td>\n",
       "      <td>Juvisy-sur-Orge, France</td>\n",
       "      <td>?</td>\n",
       "      <td>?</td>\n",
       "      <td>Air show</td>\n",
       "      <td>Wright Byplane</td>\n",
       "      <td>SC1</td>\n",
       "      <td>?</td>\n",
       "      <td>1</td>\n",
       "      <td>0</td>\n",
       "      <td>1</td>\n",
       "      <td>1</td>\n",
       "      <td>0</td>\n",
       "      <td>0</td>\n",
       "      <td>0</td>\n",
       "      <td>Eugene Lefebvre was the first pilot to ever be...</td>\n",
       "    </tr>\n",
       "  </tbody>\n",
       "</table>\n",
       "</div>"
      ],
      "text/plain": [
       "                fecha HORA declarada                     Ruta  \\\n",
       "0  September 17, 1908           1718      Fort Myer, Virginia   \n",
       "1  September 07, 1909              ?  Juvisy-sur-Orge, France   \n",
       "\n",
       "               OperadOR flight_no          route           ac_type  \\\n",
       "0  Military - U.S. Army         ?  Demonstration  Wright Flyer III   \n",
       "1                     ?         ?       Air show    Wright Byplane   \n",
       "\n",
       "  registration cn_ln all_aboard PASAJEROS A BORDO crew_aboard  \\\n",
       "0            ?     1          2                 1           1   \n",
       "1          SC1     ?          1                 0           1   \n",
       "\n",
       "  cantidad de fallecidos passenger_fatalities crew_fatalities ground  \\\n",
       "0                      1                    1               0      0   \n",
       "1                      1                    0               0      0   \n",
       "\n",
       "                                             summary  \n",
       "0  During a demonstration flight, a U.S. Army fly...  \n",
       "1  Eugene Lefebvre was the first pilot to ever be...  "
      ]
     },
     "execution_count": 113,
     "metadata": {},
     "output_type": "execute_result"
    }
   ],
   "source": [
    "df_avion.head(2)"
   ]
  },
  {
   "cell_type": "markdown",
   "metadata": {},
   "source": [
    "Guardo el dataset para continuar"
   ]
  },
  {
   "cell_type": "code",
   "execution_count": 114,
   "metadata": {},
   "outputs": [],
   "source": [
    "nombreCSV = 'AccidentesAvionesModificado.csv'\n",
    "df_avion.to_csv(nombreCSV, index=False)"
   ]
  },
  {
   "cell_type": "code",
   "execution_count": 115,
   "metadata": {},
   "outputs": [],
   "source": [
    "df_avion=pd.read_csv('./AccidentesAvionesModificado.csv')"
   ]
  },
  {
   "cell_type": "code",
   "execution_count": 116,
   "metadata": {},
   "outputs": [
    {
     "data": {
      "text/html": [
       "<div>\n",
       "<style scoped>\n",
       "    .dataframe tbody tr th:only-of-type {\n",
       "        vertical-align: middle;\n",
       "    }\n",
       "\n",
       "    .dataframe tbody tr th {\n",
       "        vertical-align: top;\n",
       "    }\n",
       "\n",
       "    .dataframe thead th {\n",
       "        text-align: right;\n",
       "    }\n",
       "</style>\n",
       "<table border=\"1\" class=\"dataframe\">\n",
       "  <thead>\n",
       "    <tr style=\"text-align: right;\">\n",
       "      <th></th>\n",
       "      <th>fecha</th>\n",
       "      <th>HORA declarada</th>\n",
       "      <th>Ruta</th>\n",
       "      <th>OperadOR</th>\n",
       "      <th>flight_no</th>\n",
       "      <th>route</th>\n",
       "      <th>ac_type</th>\n",
       "      <th>registration</th>\n",
       "      <th>cn_ln</th>\n",
       "      <th>all_aboard</th>\n",
       "      <th>PASAJEROS A BORDO</th>\n",
       "      <th>crew_aboard</th>\n",
       "      <th>cantidad de fallecidos</th>\n",
       "      <th>passenger_fatalities</th>\n",
       "      <th>crew_fatalities</th>\n",
       "      <th>ground</th>\n",
       "      <th>summary</th>\n",
       "    </tr>\n",
       "  </thead>\n",
       "  <tbody>\n",
       "    <tr>\n",
       "      <th>0</th>\n",
       "      <td>September 17, 1908</td>\n",
       "      <td>1718</td>\n",
       "      <td>Fort Myer, Virginia</td>\n",
       "      <td>Military - U.S. Army</td>\n",
       "      <td>?</td>\n",
       "      <td>Demonstration</td>\n",
       "      <td>Wright Flyer III</td>\n",
       "      <td>?</td>\n",
       "      <td>1</td>\n",
       "      <td>2</td>\n",
       "      <td>1</td>\n",
       "      <td>1</td>\n",
       "      <td>1</td>\n",
       "      <td>1</td>\n",
       "      <td>0</td>\n",
       "      <td>0</td>\n",
       "      <td>During a demonstration flight, a U.S. Army fly...</td>\n",
       "    </tr>\n",
       "    <tr>\n",
       "      <th>1</th>\n",
       "      <td>September 07, 1909</td>\n",
       "      <td>?</td>\n",
       "      <td>Juvisy-sur-Orge, France</td>\n",
       "      <td>?</td>\n",
       "      <td>?</td>\n",
       "      <td>Air show</td>\n",
       "      <td>Wright Byplane</td>\n",
       "      <td>SC1</td>\n",
       "      <td>?</td>\n",
       "      <td>1</td>\n",
       "      <td>0</td>\n",
       "      <td>1</td>\n",
       "      <td>1</td>\n",
       "      <td>0</td>\n",
       "      <td>0</td>\n",
       "      <td>0</td>\n",
       "      <td>Eugene Lefebvre was the first pilot to ever be...</td>\n",
       "    </tr>\n",
       "  </tbody>\n",
       "</table>\n",
       "</div>"
      ],
      "text/plain": [
       "                fecha HORA declarada                     Ruta  \\\n",
       "0  September 17, 1908           1718      Fort Myer, Virginia   \n",
       "1  September 07, 1909              ?  Juvisy-sur-Orge, France   \n",
       "\n",
       "               OperadOR flight_no          route           ac_type  \\\n",
       "0  Military - U.S. Army         ?  Demonstration  Wright Flyer III   \n",
       "1                     ?         ?       Air show    Wright Byplane   \n",
       "\n",
       "  registration cn_ln all_aboard PASAJEROS A BORDO crew_aboard  \\\n",
       "0            ?     1          2                 1           1   \n",
       "1          SC1     ?          1                 0           1   \n",
       "\n",
       "  cantidad de fallecidos passenger_fatalities crew_fatalities ground  \\\n",
       "0                      1                    1               0      0   \n",
       "1                      1                    0               0      0   \n",
       "\n",
       "                                             summary  \n",
       "0  During a demonstration flight, a U.S. Army fly...  \n",
       "1  Eugene Lefebvre was the first pilot to ever be...  "
      ]
     },
     "execution_count": 116,
     "metadata": {},
     "output_type": "execute_result"
    }
   ],
   "source": [
    "df_avion.head(2)"
   ]
  },
  {
   "cell_type": "markdown",
   "metadata": {},
   "source": [
    "# Fechas a datetime"
   ]
  },
  {
   "cell_type": "markdown",
   "metadata": {},
   "source": [
    "cambio el tipo de dato de las fechas y horas. Tambien reemplazo las horas que contienen algun tipo de string"
   ]
  },
  {
   "cell_type": "code",
   "execution_count": 117,
   "metadata": {},
   "outputs": [],
   "source": [
    "# Convierte la columna 'fecha' a objetos datetime sin la hora y en formato \"día-mes-año\"\n",
    "df_avion['fecha'] = pd.to_datetime(df_avion['fecha'], format='%B %d, %Y', errors='coerce').dt.strftime('%d-%m-%Y')"
   ]
  },
  {
   "cell_type": "code",
   "execution_count": 118,
   "metadata": {},
   "outputs": [],
   "source": [
    "# Función para limpiar la hora\n",
    "def limpiar_hora(hora):\n",
    "    # Utiliza una expresión regular para encontrar y reemplazar todos los caracteres no numéricos\n",
    "    hora_limpia = re.sub(r'[^0-9]', '', hora)\n",
    "    return hora_limpia\n",
    "\n",
    "# Aplica la función limpiar_hora a la columna \"HORA declarada\"\n",
    "df_avion['HORA declarada'] = df_avion['HORA declarada'].apply(limpiar_hora)"
   ]
  },
  {
   "cell_type": "code",
   "execution_count": 119,
   "metadata": {},
   "outputs": [],
   "source": [
    "df_avion['HORA declarada'] = df_avion['HORA declarada'].astype(str)\n",
    "# Agrega el argumento errors='coerce' para que los valores nulos se conviertan en NaT (valores de tiempo nulo)\n",
    "df_avion['HORA declarada'] = pd.to_datetime(df_avion['HORA declarada'], format='%H%M', errors='coerce').dt.time"
   ]
  },
  {
   "cell_type": "code",
   "execution_count": 120,
   "metadata": {},
   "outputs": [
    {
     "data": {
      "text/html": [
       "<div>\n",
       "<style scoped>\n",
       "    .dataframe tbody tr th:only-of-type {\n",
       "        vertical-align: middle;\n",
       "    }\n",
       "\n",
       "    .dataframe tbody tr th {\n",
       "        vertical-align: top;\n",
       "    }\n",
       "\n",
       "    .dataframe thead th {\n",
       "        text-align: right;\n",
       "    }\n",
       "</style>\n",
       "<table border=\"1\" class=\"dataframe\">\n",
       "  <thead>\n",
       "    <tr style=\"text-align: right;\">\n",
       "      <th></th>\n",
       "      <th>fecha</th>\n",
       "      <th>HORA declarada</th>\n",
       "      <th>Ruta</th>\n",
       "      <th>OperadOR</th>\n",
       "      <th>flight_no</th>\n",
       "      <th>route</th>\n",
       "      <th>ac_type</th>\n",
       "      <th>registration</th>\n",
       "      <th>cn_ln</th>\n",
       "      <th>all_aboard</th>\n",
       "      <th>PASAJEROS A BORDO</th>\n",
       "      <th>crew_aboard</th>\n",
       "      <th>cantidad de fallecidos</th>\n",
       "      <th>passenger_fatalities</th>\n",
       "      <th>crew_fatalities</th>\n",
       "      <th>ground</th>\n",
       "      <th>summary</th>\n",
       "    </tr>\n",
       "  </thead>\n",
       "  <tbody>\n",
       "    <tr>\n",
       "      <th>0</th>\n",
       "      <td>17-09-1908</td>\n",
       "      <td>17:18:00</td>\n",
       "      <td>Fort Myer, Virginia</td>\n",
       "      <td>Military - U.S. Army</td>\n",
       "      <td>?</td>\n",
       "      <td>Demonstration</td>\n",
       "      <td>Wright Flyer III</td>\n",
       "      <td>?</td>\n",
       "      <td>1</td>\n",
       "      <td>2</td>\n",
       "      <td>1</td>\n",
       "      <td>1</td>\n",
       "      <td>1</td>\n",
       "      <td>1</td>\n",
       "      <td>0</td>\n",
       "      <td>0</td>\n",
       "      <td>During a demonstration flight, a U.S. Army fly...</td>\n",
       "    </tr>\n",
       "    <tr>\n",
       "      <th>1</th>\n",
       "      <td>07-09-1909</td>\n",
       "      <td>NaT</td>\n",
       "      <td>Juvisy-sur-Orge, France</td>\n",
       "      <td>?</td>\n",
       "      <td>?</td>\n",
       "      <td>Air show</td>\n",
       "      <td>Wright Byplane</td>\n",
       "      <td>SC1</td>\n",
       "      <td>?</td>\n",
       "      <td>1</td>\n",
       "      <td>0</td>\n",
       "      <td>1</td>\n",
       "      <td>1</td>\n",
       "      <td>0</td>\n",
       "      <td>0</td>\n",
       "      <td>0</td>\n",
       "      <td>Eugene Lefebvre was the first pilot to ever be...</td>\n",
       "    </tr>\n",
       "  </tbody>\n",
       "</table>\n",
       "</div>"
      ],
      "text/plain": [
       "        fecha HORA declarada                     Ruta              OperadOR  \\\n",
       "0  17-09-1908       17:18:00      Fort Myer, Virginia  Military - U.S. Army   \n",
       "1  07-09-1909            NaT  Juvisy-sur-Orge, France                     ?   \n",
       "\n",
       "  flight_no          route           ac_type registration cn_ln all_aboard  \\\n",
       "0         ?  Demonstration  Wright Flyer III            ?     1          2   \n",
       "1         ?       Air show    Wright Byplane          SC1     ?          1   \n",
       "\n",
       "  PASAJEROS A BORDO crew_aboard cantidad de fallecidos passenger_fatalities  \\\n",
       "0                 1           1                      1                    1   \n",
       "1                 0           1                      1                    0   \n",
       "\n",
       "  crew_fatalities ground                                            summary  \n",
       "0               0      0  During a demonstration flight, a U.S. Army fly...  \n",
       "1               0      0  Eugene Lefebvre was the first pilot to ever be...  "
      ]
     },
     "execution_count": 120,
     "metadata": {},
     "output_type": "execute_result"
    }
   ],
   "source": [
    "df_avion.head(2)"
   ]
  },
  {
   "cell_type": "markdown",
   "metadata": {},
   "source": [
    "# Valores vacios o faltantes"
   ]
  },
  {
   "cell_type": "markdown",
   "metadata": {},
   "source": [
    "Miro los valores vacios de el df"
   ]
  },
  {
   "cell_type": "code",
   "execution_count": 121,
   "metadata": {},
   "outputs": [
    {
     "name": "stdout",
     "output_type": "stream",
     "text": [
      "col:fecha, ?:0\n",
      "col:HORA declarada, ?:0\n",
      "col:Ruta, ?:5\n",
      "col:OperadOR, ?:10\n",
      "col:flight_no, ?:3682\n",
      "col:route, ?:762\n",
      "col:ac_type, ?:13\n",
      "col:registration, ?:272\n",
      "col:cn_ln, ?:667\n",
      "col:all_aboard, ?:17\n",
      "col:PASAJEROS A BORDO, ?:221\n",
      "col:crew_aboard, ?:219\n",
      "col:cantidad de fallecidos, ?:8\n",
      "col:passenger_fatalities, ?:235\n",
      "col:crew_fatalities, ?:235\n",
      "col:ground, ?:44\n",
      "col:summary, ?:59\n"
     ]
    }
   ],
   "source": [
    "for column in df_avion:\n",
    "    if df_avion[column].dtype != 'object':  # Verifica si la columna no es de tipo objeto (cadena)\n",
    "        continue  # Salta la columna si no es una cadena\n",
    "    vacios = df_avion[column].astype(str).str.count(r'^\\?$').sum()\n",
    "    print(f'col:{column}, ?:{vacios}')"
   ]
  },
  {
   "cell_type": "markdown",
   "metadata": {},
   "source": [
    "remplazo los ? con NaN"
   ]
  },
  {
   "cell_type": "code",
   "execution_count": 122,
   "metadata": {},
   "outputs": [],
   "source": [
    "for column in df_avion:\n",
    "    if df_avion[column].dtype != 'object':  # Verifica si la columna no es de tipo objeto (cadena)\n",
    "        continue  # Salta la columna si no es una cadena\n",
    "    df_avion[column] = df_avion[column].replace('?', np.nan)"
   ]
  },
  {
   "cell_type": "code",
   "execution_count": 123,
   "metadata": {},
   "outputs": [
    {
     "name": "stdout",
     "output_type": "stream",
     "text": [
      "col:fecha, NaN:0\n",
      "col:HORA declarada, NaN:1504\n",
      "col:Ruta, NaN:5\n",
      "col:OperadOR, NaN:10\n",
      "col:flight_no, NaN:3682\n",
      "col:route, NaN:762\n",
      "col:ac_type, NaN:13\n",
      "col:registration, NaN:272\n",
      "col:cn_ln, NaN:667\n",
      "col:all_aboard, NaN:17\n",
      "col:PASAJEROS A BORDO, NaN:221\n",
      "col:crew_aboard, NaN:219\n",
      "col:cantidad de fallecidos, NaN:8\n",
      "col:passenger_fatalities, NaN:235\n",
      "col:crew_fatalities, NaN:235\n",
      "col:ground, NaN:44\n",
      "col:summary, NaN:59\n"
     ]
    }
   ],
   "source": [
    "for column in df_avion:\n",
    "    if df_avion[column].dtype != 'object':  # Verifica si la columna no es de tipo objeto (cadena)\n",
    "        continue  # Salta la columna si no es una cadena\n",
    "    vacios = df_avion[column].isna().sum()\n",
    "    print(f'col:{column}, NaN:{vacios}')"
   ]
  },
  {
   "cell_type": "markdown",
   "metadata": {},
   "source": [
    "# Guardar nuevo df como csv"
   ]
  },
  {
   "cell_type": "code",
   "execution_count": 124,
   "metadata": {},
   "outputs": [],
   "source": [
    "nombreCSV = 'AccidentesAvionesModificado.csv'\n",
    "df_avion.to_csv(nombreCSV, index=False)"
   ]
  },
  {
   "cell_type": "code",
   "execution_count": 125,
   "metadata": {},
   "outputs": [],
   "source": [
    "df_avion=pd.read_csv('./AccidentesAvionesModificado.csv')"
   ]
  },
  {
   "cell_type": "code",
   "execution_count": 126,
   "metadata": {},
   "outputs": [
    {
     "data": {
      "text/html": [
       "<div>\n",
       "<style scoped>\n",
       "    .dataframe tbody tr th:only-of-type {\n",
       "        vertical-align: middle;\n",
       "    }\n",
       "\n",
       "    .dataframe tbody tr th {\n",
       "        vertical-align: top;\n",
       "    }\n",
       "\n",
       "    .dataframe thead th {\n",
       "        text-align: right;\n",
       "    }\n",
       "</style>\n",
       "<table border=\"1\" class=\"dataframe\">\n",
       "  <thead>\n",
       "    <tr style=\"text-align: right;\">\n",
       "      <th></th>\n",
       "      <th>fecha</th>\n",
       "      <th>HORA declarada</th>\n",
       "      <th>Ruta</th>\n",
       "      <th>OperadOR</th>\n",
       "      <th>flight_no</th>\n",
       "      <th>route</th>\n",
       "      <th>ac_type</th>\n",
       "      <th>registration</th>\n",
       "      <th>cn_ln</th>\n",
       "      <th>all_aboard</th>\n",
       "      <th>PASAJEROS A BORDO</th>\n",
       "      <th>crew_aboard</th>\n",
       "      <th>cantidad de fallecidos</th>\n",
       "      <th>passenger_fatalities</th>\n",
       "      <th>crew_fatalities</th>\n",
       "      <th>ground</th>\n",
       "      <th>summary</th>\n",
       "    </tr>\n",
       "  </thead>\n",
       "  <tbody>\n",
       "    <tr>\n",
       "      <th>0</th>\n",
       "      <td>17-09-1908</td>\n",
       "      <td>17:18:00</td>\n",
       "      <td>Fort Myer, Virginia</td>\n",
       "      <td>Military - U.S. Army</td>\n",
       "      <td>NaN</td>\n",
       "      <td>Demonstration</td>\n",
       "      <td>Wright Flyer III</td>\n",
       "      <td>NaN</td>\n",
       "      <td>1</td>\n",
       "      <td>2.0</td>\n",
       "      <td>1.0</td>\n",
       "      <td>1.0</td>\n",
       "      <td>1.0</td>\n",
       "      <td>1.0</td>\n",
       "      <td>0.0</td>\n",
       "      <td>0.0</td>\n",
       "      <td>During a demonstration flight, a U.S. Army fly...</td>\n",
       "    </tr>\n",
       "    <tr>\n",
       "      <th>1</th>\n",
       "      <td>07-09-1909</td>\n",
       "      <td>NaN</td>\n",
       "      <td>Juvisy-sur-Orge, France</td>\n",
       "      <td>NaN</td>\n",
       "      <td>NaN</td>\n",
       "      <td>Air show</td>\n",
       "      <td>Wright Byplane</td>\n",
       "      <td>SC1</td>\n",
       "      <td>NaN</td>\n",
       "      <td>1.0</td>\n",
       "      <td>0.0</td>\n",
       "      <td>1.0</td>\n",
       "      <td>1.0</td>\n",
       "      <td>0.0</td>\n",
       "      <td>0.0</td>\n",
       "      <td>0.0</td>\n",
       "      <td>Eugene Lefebvre was the first pilot to ever be...</td>\n",
       "    </tr>\n",
       "  </tbody>\n",
       "</table>\n",
       "</div>"
      ],
      "text/plain": [
       "        fecha HORA declarada                     Ruta              OperadOR  \\\n",
       "0  17-09-1908       17:18:00      Fort Myer, Virginia  Military - U.S. Army   \n",
       "1  07-09-1909            NaN  Juvisy-sur-Orge, France                   NaN   \n",
       "\n",
       "  flight_no          route           ac_type registration cn_ln  all_aboard  \\\n",
       "0       NaN  Demonstration  Wright Flyer III          NaN     1         2.0   \n",
       "1       NaN       Air show    Wright Byplane          SC1   NaN         1.0   \n",
       "\n",
       "   PASAJEROS A BORDO  crew_aboard  cantidad de fallecidos  \\\n",
       "0                1.0          1.0                     1.0   \n",
       "1                0.0          1.0                     1.0   \n",
       "\n",
       "   passenger_fatalities  crew_fatalities  ground  \\\n",
       "0                   1.0              0.0     0.0   \n",
       "1                   0.0              0.0     0.0   \n",
       "\n",
       "                                             summary  \n",
       "0  During a demonstration flight, a U.S. Army fly...  \n",
       "1  Eugene Lefebvre was the first pilot to ever be...  "
      ]
     },
     "execution_count": 126,
     "metadata": {},
     "output_type": "execute_result"
    }
   ],
   "source": [
    "df_avion.head(2)"
   ]
  },
  {
   "cell_type": "markdown",
   "metadata": {},
   "source": [
    "## Cambio el nombre de las columnas a nombres en español"
   ]
  },
  {
   "cell_type": "code",
   "execution_count": 127,
   "metadata": {},
   "outputs": [],
   "source": [
    "column_names = [\n",
    "    \"Fecha\", \"Hora Declarada\", \"Ruta\", \"Operador\", \"Num de Vuelo\", \"Tipo de Vuelo\", \"Tipo de Aeronave\", \"Matricula\", \"CN/LN\", \"Total a Bordo\", \"Pasajeros a Bordo\", \"Tripulacion a Bordo\", \"Cantidad de Fallecidos\", \"Pasajeros Fallecidos\", \"Tripulacion Fallecida\", \"Fallecidos en Tierra\", \"Resumen\"\n",
    "]\n",
    "df_avion.columns = column_names"
   ]
  },
  {
   "cell_type": "code",
   "execution_count": 128,
   "metadata": {},
   "outputs": [
    {
     "data": {
      "text/html": [
       "<div>\n",
       "<style scoped>\n",
       "    .dataframe tbody tr th:only-of-type {\n",
       "        vertical-align: middle;\n",
       "    }\n",
       "\n",
       "    .dataframe tbody tr th {\n",
       "        vertical-align: top;\n",
       "    }\n",
       "\n",
       "    .dataframe thead th {\n",
       "        text-align: right;\n",
       "    }\n",
       "</style>\n",
       "<table border=\"1\" class=\"dataframe\">\n",
       "  <thead>\n",
       "    <tr style=\"text-align: right;\">\n",
       "      <th></th>\n",
       "      <th>Fecha</th>\n",
       "      <th>Hora Declarada</th>\n",
       "      <th>Ruta</th>\n",
       "      <th>Operador</th>\n",
       "      <th>Num de Vuelo</th>\n",
       "      <th>Tipo de Vuelo</th>\n",
       "      <th>Tipo de Aeronave</th>\n",
       "      <th>Matricula</th>\n",
       "      <th>CN/LN</th>\n",
       "      <th>Total a Bordo</th>\n",
       "      <th>Pasajeros a Bordo</th>\n",
       "      <th>Tripulacion a Bordo</th>\n",
       "      <th>Cantidad de Fallecidos</th>\n",
       "      <th>Pasajeros Fallecidos</th>\n",
       "      <th>Tripulacion Fallecida</th>\n",
       "      <th>Fallecidos en Tierra</th>\n",
       "      <th>Resumen</th>\n",
       "    </tr>\n",
       "  </thead>\n",
       "  <tbody>\n",
       "    <tr>\n",
       "      <th>0</th>\n",
       "      <td>17-09-1908</td>\n",
       "      <td>17:18:00</td>\n",
       "      <td>Fort Myer, Virginia</td>\n",
       "      <td>Military - U.S. Army</td>\n",
       "      <td>NaN</td>\n",
       "      <td>Demonstration</td>\n",
       "      <td>Wright Flyer III</td>\n",
       "      <td>NaN</td>\n",
       "      <td>1</td>\n",
       "      <td>2.0</td>\n",
       "      <td>1.0</td>\n",
       "      <td>1.0</td>\n",
       "      <td>1.0</td>\n",
       "      <td>1.0</td>\n",
       "      <td>0.0</td>\n",
       "      <td>0.0</td>\n",
       "      <td>During a demonstration flight, a U.S. Army fly...</td>\n",
       "    </tr>\n",
       "    <tr>\n",
       "      <th>1</th>\n",
       "      <td>07-09-1909</td>\n",
       "      <td>NaN</td>\n",
       "      <td>Juvisy-sur-Orge, France</td>\n",
       "      <td>NaN</td>\n",
       "      <td>NaN</td>\n",
       "      <td>Air show</td>\n",
       "      <td>Wright Byplane</td>\n",
       "      <td>SC1</td>\n",
       "      <td>NaN</td>\n",
       "      <td>1.0</td>\n",
       "      <td>0.0</td>\n",
       "      <td>1.0</td>\n",
       "      <td>1.0</td>\n",
       "      <td>0.0</td>\n",
       "      <td>0.0</td>\n",
       "      <td>0.0</td>\n",
       "      <td>Eugene Lefebvre was the first pilot to ever be...</td>\n",
       "    </tr>\n",
       "  </tbody>\n",
       "</table>\n",
       "</div>"
      ],
      "text/plain": [
       "        Fecha Hora Declarada                     Ruta              Operador  \\\n",
       "0  17-09-1908       17:18:00      Fort Myer, Virginia  Military - U.S. Army   \n",
       "1  07-09-1909            NaN  Juvisy-sur-Orge, France                   NaN   \n",
       "\n",
       "  Num de Vuelo  Tipo de Vuelo  Tipo de Aeronave Matricula CN/LN  \\\n",
       "0          NaN  Demonstration  Wright Flyer III       NaN     1   \n",
       "1          NaN       Air show    Wright Byplane       SC1   NaN   \n",
       "\n",
       "   Total a Bordo  Pasajeros a Bordo  Tripulacion a Bordo  \\\n",
       "0            2.0                1.0                  1.0   \n",
       "1            1.0                0.0                  1.0   \n",
       "\n",
       "   Cantidad de Fallecidos  Pasajeros Fallecidos  Tripulacion Fallecida  \\\n",
       "0                     1.0                   1.0                    0.0   \n",
       "1                     1.0                   0.0                    0.0   \n",
       "\n",
       "   Fallecidos en Tierra                                            Resumen  \n",
       "0                   0.0  During a demonstration flight, a U.S. Army fly...  \n",
       "1                   0.0  Eugene Lefebvre was the first pilot to ever be...  "
      ]
     },
     "execution_count": 128,
     "metadata": {},
     "output_type": "execute_result"
    }
   ],
   "source": [
    "df_avion.head(2)"
   ]
  },
  {
   "cell_type": "markdown",
   "metadata": {},
   "source": [
    "quito la columna de Num de Vuelo que tiene un 74% de sus valores faltantes"
   ]
  },
  {
   "cell_type": "code",
   "execution_count": 129,
   "metadata": {},
   "outputs": [],
   "source": [
    "df_avion=df_avion.drop(['Num de Vuelo'],axis=1)"
   ]
  },
  {
   "cell_type": "markdown",
   "metadata": {},
   "source": [
    "Vemos que en nuestros datos de pasajeros a bordo hay veces en que la cantidad de personas a bordo es menor a la suma de la cantidad de pasajeros y tripulantes en el vehiculo"
   ]
  },
  {
   "cell_type": "code",
   "execution_count": 130,
   "metadata": {},
   "outputs": [],
   "source": [
    "def corregir_total_a_bordo(dataframe):\n",
    "    # Verificar si la suma de \"Pasajeros a Bordo\" y \"Tripulación a Bordo\" es mayor que \"Total a Bordo\"\n",
    "    mask = (dataframe['Pasajeros a Bordo'] + dataframe['Tripulacion a Bordo']) > dataframe['Total a Bordo']\n",
    "    \n",
    "    # Actualizar los valores de \"Total a Bordo\" donde se cumple la condición\n",
    "    dataframe.loc[mask, 'Total a Bordo'] = dataframe.loc[mask, 'Pasajeros a Bordo'] + dataframe.loc[mask, 'Tripulacion a Bordo']\n",
    "\n",
    "corregir_total_a_bordo(df_avion)"
   ]
  },
  {
   "cell_type": "markdown",
   "metadata": {},
   "source": [
    "Vemos que en nuestros datos de Fallecidos hay veces en que la Cantidad de Fallecidos es menor a la suma Pasajeros Fallecidos y Tripulacion Fallecida"
   ]
  },
  {
   "cell_type": "code",
   "execution_count": 131,
   "metadata": {},
   "outputs": [],
   "source": [
    "def corregir_Tripulacion_Fallecida(dataframe):\n",
    "    # Verificar si la suma de 'Tripulacion Fallecida' y'Pasajeros Fallecidos' es mayor que \"Total a Bordo\"\n",
    "    mask = (dataframe['Tripulacion Fallecida'] + dataframe['Pasajeros Fallecidos']) > dataframe['Cantidad de Fallecidos']\n",
    "    \n",
    "    # Actualizar los valores de \"Cantidad de Fallecidos\" donde se cumple la condición\n",
    "    dataframe.loc[mask, 'Cantidad de Fallecidos'] = dataframe.loc[mask, 'Tripulacion Fallecida'] + dataframe.loc[mask, 'Pasajeros Fallecidos']\n",
    "\n",
    "corregir_Tripulacion_Fallecida(df_avion)"
   ]
  },
  {
   "cell_type": "markdown",
   "metadata": {},
   "source": [
    "Elimino las filas que tienen todos sus valores de personas a bordo y fallecidos faltantes"
   ]
  },
  {
   "cell_type": "code",
   "execution_count": 132,
   "metadata": {},
   "outputs": [],
   "source": [
    "columnas_a_verificar = ['Total a Bordo', 'Pasajeros a Bordo', 'Tripulacion a Bordo', 'Cantidad de Fallecidos', 'Pasajeros Fallecidos', 'Tripulacion Fallecida']\n",
    "# Elimina filas que tienen NaN en TODAS las columnas especificadas.\n",
    "df_avion = df_avion.dropna(subset=columnas_a_verificar, how='all')"
   ]
  },
  {
   "cell_type": "markdown",
   "metadata": {},
   "source": [
    "## columna de categoria militar/comercial"
   ]
  },
  {
   "cell_type": "markdown",
   "metadata": {},
   "source": [
    "Creo una columna nueva que contenga la categoria de la aeronave"
   ]
  },
  {
   "cell_type": "code",
   "execution_count": 134,
   "metadata": {},
   "outputs": [],
   "source": [
    "# Crea la nueva columna 'categoria' basada en la columna 'Operador'\n",
    "df_avion['categoria'] = df_avion['Operador'].apply(lambda x: 'Militar' if 'Military' in x else 'Comercial')"
   ]
  },
  {
   "cell_type": "code",
   "execution_count": 135,
   "metadata": {},
   "outputs": [
    {
     "data": {
      "text/html": [
       "<div>\n",
       "<style scoped>\n",
       "    .dataframe tbody tr th:only-of-type {\n",
       "        vertical-align: middle;\n",
       "    }\n",
       "\n",
       "    .dataframe tbody tr th {\n",
       "        vertical-align: top;\n",
       "    }\n",
       "\n",
       "    .dataframe thead th {\n",
       "        text-align: right;\n",
       "    }\n",
       "</style>\n",
       "<table border=\"1\" class=\"dataframe\">\n",
       "  <thead>\n",
       "    <tr style=\"text-align: right;\">\n",
       "      <th></th>\n",
       "      <th>Fecha</th>\n",
       "      <th>Hora Declarada</th>\n",
       "      <th>Ruta</th>\n",
       "      <th>Operador</th>\n",
       "      <th>Tipo de Vuelo</th>\n",
       "      <th>Tipo de Aeronave</th>\n",
       "      <th>Matricula</th>\n",
       "      <th>CN/LN</th>\n",
       "      <th>Total a Bordo</th>\n",
       "      <th>Pasajeros a Bordo</th>\n",
       "      <th>Tripulacion a Bordo</th>\n",
       "      <th>Cantidad de Fallecidos</th>\n",
       "      <th>Pasajeros Fallecidos</th>\n",
       "      <th>Tripulacion Fallecida</th>\n",
       "      <th>Fallecidos en Tierra</th>\n",
       "      <th>Resumen</th>\n",
       "      <th>categoria</th>\n",
       "    </tr>\n",
       "  </thead>\n",
       "  <tbody>\n",
       "    <tr>\n",
       "      <th>0</th>\n",
       "      <td>17-09-1908</td>\n",
       "      <td>17:18:00</td>\n",
       "      <td>Fort Myer, Virginia</td>\n",
       "      <td>Military - U.S. Army</td>\n",
       "      <td>Demonstration</td>\n",
       "      <td>Wright Flyer III</td>\n",
       "      <td>NaN</td>\n",
       "      <td>1</td>\n",
       "      <td>2.0</td>\n",
       "      <td>1.0</td>\n",
       "      <td>1.0</td>\n",
       "      <td>1.0</td>\n",
       "      <td>1.0</td>\n",
       "      <td>0.0</td>\n",
       "      <td>0.0</td>\n",
       "      <td>During a demonstration flight, a U.S. Army fly...</td>\n",
       "      <td>Militar</td>\n",
       "    </tr>\n",
       "    <tr>\n",
       "      <th>1</th>\n",
       "      <td>07-09-1909</td>\n",
       "      <td>NaN</td>\n",
       "      <td>Juvisy-sur-Orge, France</td>\n",
       "      <td>nan</td>\n",
       "      <td>Air show</td>\n",
       "      <td>Wright Byplane</td>\n",
       "      <td>SC1</td>\n",
       "      <td>NaN</td>\n",
       "      <td>1.0</td>\n",
       "      <td>0.0</td>\n",
       "      <td>1.0</td>\n",
       "      <td>1.0</td>\n",
       "      <td>0.0</td>\n",
       "      <td>0.0</td>\n",
       "      <td>0.0</td>\n",
       "      <td>Eugene Lefebvre was the first pilot to ever be...</td>\n",
       "      <td>Comercial</td>\n",
       "    </tr>\n",
       "  </tbody>\n",
       "</table>\n",
       "</div>"
      ],
      "text/plain": [
       "        Fecha Hora Declarada                     Ruta              Operador  \\\n",
       "0  17-09-1908       17:18:00      Fort Myer, Virginia  Military - U.S. Army   \n",
       "1  07-09-1909            NaN  Juvisy-sur-Orge, France                   nan   \n",
       "\n",
       "   Tipo de Vuelo  Tipo de Aeronave Matricula CN/LN  Total a Bordo  \\\n",
       "0  Demonstration  Wright Flyer III       NaN     1            2.0   \n",
       "1       Air show    Wright Byplane       SC1   NaN            1.0   \n",
       "\n",
       "   Pasajeros a Bordo  Tripulacion a Bordo  Cantidad de Fallecidos  \\\n",
       "0                1.0                  1.0                     1.0   \n",
       "1                0.0                  1.0                     1.0   \n",
       "\n",
       "   Pasajeros Fallecidos  Tripulacion Fallecida  Fallecidos en Tierra  \\\n",
       "0                   1.0                    0.0                   0.0   \n",
       "1                   0.0                    0.0                   0.0   \n",
       "\n",
       "                                             Resumen  categoria  \n",
       "0  During a demonstration flight, a U.S. Army fly...    Militar  \n",
       "1  Eugene Lefebvre was the first pilot to ever be...  Comercial  "
      ]
     },
     "execution_count": 135,
     "metadata": {},
     "output_type": "execute_result"
    }
   ],
   "source": [
    "df_avion.head(2)"
   ]
  },
  {
   "cell_type": "code",
   "execution_count": 92,
   "metadata": {},
   "outputs": [],
   "source": [
    "nombreCSV = 'AccidentesAvionesModificado.csv'\n",
    "df_avion.to_csv(nombreCSV, index=False)"
   ]
  },
  {
   "cell_type": "markdown",
   "metadata": {},
   "source": [
    "# Empezando el EDA"
   ]
  },
  {
   "cell_type": "code",
   "execution_count": 93,
   "metadata": {},
   "outputs": [],
   "source": [
    "df_avion=pd.read_csv('./AccidentesAvionesModificado.csv')"
   ]
  },
  {
   "cell_type": "markdown",
   "metadata": {},
   "source": [
    "Vemos que tenemos un total de 5008 filas y 17 columnas"
   ]
  },
  {
   "cell_type": "code",
   "execution_count": 94,
   "metadata": {},
   "outputs": [
    {
     "data": {
      "text/plain": [
       "(5000, 16)"
      ]
     },
     "execution_count": 94,
     "metadata": {},
     "output_type": "execute_result"
    }
   ],
   "source": [
    "df_avion.shape"
   ]
  },
  {
   "cell_type": "code",
   "execution_count": 95,
   "metadata": {},
   "outputs": [
    {
     "data": {
      "text/html": [
       "<div>\n",
       "<style scoped>\n",
       "    .dataframe tbody tr th:only-of-type {\n",
       "        vertical-align: middle;\n",
       "    }\n",
       "\n",
       "    .dataframe tbody tr th {\n",
       "        vertical-align: top;\n",
       "    }\n",
       "\n",
       "    .dataframe thead th {\n",
       "        text-align: right;\n",
       "    }\n",
       "</style>\n",
       "<table border=\"1\" class=\"dataframe\">\n",
       "  <thead>\n",
       "    <tr style=\"text-align: right;\">\n",
       "      <th></th>\n",
       "      <th>Fecha</th>\n",
       "      <th>Hora Declarada</th>\n",
       "      <th>Ruta</th>\n",
       "      <th>Operador</th>\n",
       "      <th>Tipo de Vuelo</th>\n",
       "      <th>Tipo de Aeronave</th>\n",
       "      <th>Matricula</th>\n",
       "      <th>CN/LN</th>\n",
       "      <th>Total a Bordo</th>\n",
       "      <th>Pasajeros a Bordo</th>\n",
       "      <th>Tripulacion a Bordo</th>\n",
       "      <th>Cantidad de Fallecidos</th>\n",
       "      <th>Pasajeros Fallecidos</th>\n",
       "      <th>Tripulacion Fallecida</th>\n",
       "      <th>Fallecidos en Tierra</th>\n",
       "      <th>Resumen</th>\n",
       "    </tr>\n",
       "  </thead>\n",
       "  <tbody>\n",
       "    <tr>\n",
       "      <th>0</th>\n",
       "      <td>17-09-1908</td>\n",
       "      <td>17:18:00</td>\n",
       "      <td>Fort Myer, Virginia</td>\n",
       "      <td>Military - U.S. Army</td>\n",
       "      <td>Demonstration</td>\n",
       "      <td>Wright Flyer III</td>\n",
       "      <td>NaN</td>\n",
       "      <td>1</td>\n",
       "      <td>2.0</td>\n",
       "      <td>1.0</td>\n",
       "      <td>1.0</td>\n",
       "      <td>1.0</td>\n",
       "      <td>1.0</td>\n",
       "      <td>0.0</td>\n",
       "      <td>0.0</td>\n",
       "      <td>During a demonstration flight, a U.S. Army fly...</td>\n",
       "    </tr>\n",
       "    <tr>\n",
       "      <th>1</th>\n",
       "      <td>07-09-1909</td>\n",
       "      <td>NaN</td>\n",
       "      <td>Juvisy-sur-Orge, France</td>\n",
       "      <td>NaN</td>\n",
       "      <td>Air show</td>\n",
       "      <td>Wright Byplane</td>\n",
       "      <td>SC1</td>\n",
       "      <td>NaN</td>\n",
       "      <td>1.0</td>\n",
       "      <td>0.0</td>\n",
       "      <td>1.0</td>\n",
       "      <td>1.0</td>\n",
       "      <td>0.0</td>\n",
       "      <td>0.0</td>\n",
       "      <td>0.0</td>\n",
       "      <td>Eugene Lefebvre was the first pilot to ever be...</td>\n",
       "    </tr>\n",
       "    <tr>\n",
       "      <th>2</th>\n",
       "      <td>12-07-1912</td>\n",
       "      <td>06:30:00</td>\n",
       "      <td>Atlantic City, New Jersey</td>\n",
       "      <td>Military - U.S. Navy</td>\n",
       "      <td>Test flight</td>\n",
       "      <td>Dirigible</td>\n",
       "      <td>NaN</td>\n",
       "      <td>NaN</td>\n",
       "      <td>5.0</td>\n",
       "      <td>0.0</td>\n",
       "      <td>5.0</td>\n",
       "      <td>5.0</td>\n",
       "      <td>0.0</td>\n",
       "      <td>5.0</td>\n",
       "      <td>0.0</td>\n",
       "      <td>First U.S. dirigible Akron exploded just offsh...</td>\n",
       "    </tr>\n",
       "    <tr>\n",
       "      <th>3</th>\n",
       "      <td>06-08-1913</td>\n",
       "      <td>NaN</td>\n",
       "      <td>Victoria, British Columbia, Canada</td>\n",
       "      <td>Private</td>\n",
       "      <td>NaN</td>\n",
       "      <td>Curtiss seaplane</td>\n",
       "      <td>NaN</td>\n",
       "      <td>NaN</td>\n",
       "      <td>1.0</td>\n",
       "      <td>0.0</td>\n",
       "      <td>1.0</td>\n",
       "      <td>1.0</td>\n",
       "      <td>0.0</td>\n",
       "      <td>1.0</td>\n",
       "      <td>0.0</td>\n",
       "      <td>The first fatal airplane accident in Canada oc...</td>\n",
       "    </tr>\n",
       "    <tr>\n",
       "      <th>4</th>\n",
       "      <td>09-09-1913</td>\n",
       "      <td>18:30:00</td>\n",
       "      <td>Over the North Sea</td>\n",
       "      <td>Military - German Navy</td>\n",
       "      <td>NaN</td>\n",
       "      <td>Zeppelin L-1 (airship)</td>\n",
       "      <td>NaN</td>\n",
       "      <td>NaN</td>\n",
       "      <td>20.0</td>\n",
       "      <td>NaN</td>\n",
       "      <td>NaN</td>\n",
       "      <td>14.0</td>\n",
       "      <td>NaN</td>\n",
       "      <td>NaN</td>\n",
       "      <td>0.0</td>\n",
       "      <td>The airship flew into a thunderstorm and encou...</td>\n",
       "    </tr>\n",
       "  </tbody>\n",
       "</table>\n",
       "</div>"
      ],
      "text/plain": [
       "        Fecha Hora Declarada                                Ruta  \\\n",
       "0  17-09-1908       17:18:00                 Fort Myer, Virginia   \n",
       "1  07-09-1909            NaN             Juvisy-sur-Orge, France   \n",
       "2  12-07-1912       06:30:00           Atlantic City, New Jersey   \n",
       "3  06-08-1913            NaN  Victoria, British Columbia, Canada   \n",
       "4  09-09-1913       18:30:00                  Over the North Sea   \n",
       "\n",
       "                 Operador  Tipo de Vuelo        Tipo de Aeronave Matricula  \\\n",
       "0    Military - U.S. Army  Demonstration        Wright Flyer III       NaN   \n",
       "1                     NaN       Air show          Wright Byplane       SC1   \n",
       "2    Military - U.S. Navy    Test flight               Dirigible       NaN   \n",
       "3                 Private            NaN        Curtiss seaplane       NaN   \n",
       "4  Military - German Navy            NaN  Zeppelin L-1 (airship)       NaN   \n",
       "\n",
       "  CN/LN  Total a Bordo  Pasajeros a Bordo  Tripulacion a Bordo  \\\n",
       "0     1            2.0                1.0                  1.0   \n",
       "1   NaN            1.0                0.0                  1.0   \n",
       "2   NaN            5.0                0.0                  5.0   \n",
       "3   NaN            1.0                0.0                  1.0   \n",
       "4   NaN           20.0                NaN                  NaN   \n",
       "\n",
       "   Cantidad de Fallecidos  Pasajeros Fallecidos  Tripulacion Fallecida  \\\n",
       "0                     1.0                   1.0                    0.0   \n",
       "1                     1.0                   0.0                    0.0   \n",
       "2                     5.0                   0.0                    5.0   \n",
       "3                     1.0                   0.0                    1.0   \n",
       "4                    14.0                   NaN                    NaN   \n",
       "\n",
       "   Fallecidos en Tierra                                            Resumen  \n",
       "0                   0.0  During a demonstration flight, a U.S. Army fly...  \n",
       "1                   0.0  Eugene Lefebvre was the first pilot to ever be...  \n",
       "2                   0.0  First U.S. dirigible Akron exploded just offsh...  \n",
       "3                   0.0  The first fatal airplane accident in Canada oc...  \n",
       "4                   0.0  The airship flew into a thunderstorm and encou...  "
      ]
     },
     "execution_count": 95,
     "metadata": {},
     "output_type": "execute_result"
    }
   ],
   "source": [
    "df_avion.head()"
   ]
  },
  {
   "cell_type": "markdown",
   "metadata": {},
   "source": [
    "Podemos ver que la unica columna sin nulos es la columna de fecha\n",
    "La columna con más nulos es la de numero de vuelo"
   ]
  },
  {
   "cell_type": "markdown",
   "metadata": {},
   "source": [
    "Tambien podemos ver que tenemos 7 columnas numéricas."
   ]
  },
  {
   "cell_type": "code",
   "execution_count": 96,
   "metadata": {},
   "outputs": [
    {
     "name": "stdout",
     "output_type": "stream",
     "text": [
      "<class 'pandas.core.frame.DataFrame'>\n",
      "RangeIndex: 5000 entries, 0 to 4999\n",
      "Data columns (total 16 columns):\n",
      " #   Column                  Non-Null Count  Dtype  \n",
      "---  ------                  --------------  -----  \n",
      " 0   Fecha                   5000 non-null   object \n",
      " 1   Hora Declarada          3504 non-null   object \n",
      " 2   Ruta                    4995 non-null   object \n",
      " 3   Operador                4990 non-null   object \n",
      " 4   Tipo de Vuelo           4245 non-null   object \n",
      " 5   Tipo de Aeronave        4989 non-null   object \n",
      " 6   Matricula               4731 non-null   object \n",
      " 7   CN/LN                   4341 non-null   object \n",
      " 8   Total a Bordo           4991 non-null   float64\n",
      " 9   Pasajeros a Bordo       4787 non-null   float64\n",
      " 10  Tripulacion a Bordo     4789 non-null   float64\n",
      " 11  Cantidad de Fallecidos  5000 non-null   float64\n",
      " 12  Pasajeros Fallecidos    4773 non-null   float64\n",
      " 13  Tripulacion Fallecida   4773 non-null   float64\n",
      " 14  Fallecidos en Tierra    4964 non-null   float64\n",
      " 15  Resumen                 4945 non-null   object \n",
      "dtypes: float64(7), object(9)\n",
      "memory usage: 625.1+ KB\n"
     ]
    }
   ],
   "source": [
    "df_avion.info()\n"
   ]
  },
  {
   "cell_type": "markdown",
   "metadata": {},
   "source": [
    "# Estadísticas descriptivas básicas"
   ]
  },
  {
   "cell_type": "markdown",
   "metadata": {},
   "source": [
    "**Pasajeros y Tripulación:** Podemos ver una media de 31 personas a bordo de la Aeronave. Esto incluye tanto pasajeros como tripulación. El 75% de los accidentes tenía 35 personas o menos a bordo, lo que sugiere que la mayoría de los accidentes involucran aeronaves más pequeñas o situaciones con menos ocupantes."
   ]
  },
  {
   "cell_type": "markdown",
   "metadata": {},
   "source": [
    "**Fallecidos**: En promedio, hubo alrededor de 22 fallecidos en cada accidente. Esto incluye tanto pasajeros como tripulación. El 50% de los accidentes tenía 11 fallecidos o menos. Los valores máximos son significativamente más altos."
   ]
  },
  {
   "cell_type": "markdown",
   "metadata": {},
   "source": [
    "**Fallecidos en Tierra**: La columna \"Fallecidos en Tierra\" tiene un valor máximo extremadamente alto de 2,750"
   ]
  },
  {
   "cell_type": "markdown",
   "metadata": {},
   "source": [
    "**Valores Faltantes**: Hay valores faltantes en las columnas relacionadas con la cantidad de pasajeros y tripulación a bordo. Esto podría indicar que en algunos registros no se registraron estas cifras o que la información está incompleta."
   ]
  },
  {
   "cell_type": "code",
   "execution_count": 97,
   "metadata": {},
   "outputs": [
    {
     "data": {
      "text/html": [
       "<div>\n",
       "<style scoped>\n",
       "    .dataframe tbody tr th:only-of-type {\n",
       "        vertical-align: middle;\n",
       "    }\n",
       "\n",
       "    .dataframe tbody tr th {\n",
       "        vertical-align: top;\n",
       "    }\n",
       "\n",
       "    .dataframe thead th {\n",
       "        text-align: right;\n",
       "    }\n",
       "</style>\n",
       "<table border=\"1\" class=\"dataframe\">\n",
       "  <thead>\n",
       "    <tr style=\"text-align: right;\">\n",
       "      <th></th>\n",
       "      <th>Total a Bordo</th>\n",
       "      <th>Pasajeros a Bordo</th>\n",
       "      <th>Tripulacion a Bordo</th>\n",
       "      <th>Cantidad de Fallecidos</th>\n",
       "      <th>Pasajeros Fallecidos</th>\n",
       "      <th>Tripulacion Fallecida</th>\n",
       "      <th>Fallecidos en Tierra</th>\n",
       "    </tr>\n",
       "  </thead>\n",
       "  <tbody>\n",
       "    <tr>\n",
       "      <th>count</th>\n",
       "      <td>4991.000000</td>\n",
       "      <td>4787.000000</td>\n",
       "      <td>4789.000000</td>\n",
       "      <td>5000.000000</td>\n",
       "      <td>4773.000000</td>\n",
       "      <td>4773.000000</td>\n",
       "      <td>4964.000000</td>\n",
       "    </tr>\n",
       "    <tr>\n",
       "      <th>mean</th>\n",
       "      <td>31.138449</td>\n",
       "      <td>26.877376</td>\n",
       "      <td>4.519524</td>\n",
       "      <td>22.368600</td>\n",
       "      <td>18.940708</td>\n",
       "      <td>3.587262</td>\n",
       "      <td>1.718372</td>\n",
       "    </tr>\n",
       "    <tr>\n",
       "      <th>std</th>\n",
       "      <td>45.491146</td>\n",
       "      <td>44.035342</td>\n",
       "      <td>3.758072</td>\n",
       "      <td>35.128796</td>\n",
       "      <td>34.065190</td>\n",
       "      <td>3.177315</td>\n",
       "      <td>55.495544</td>\n",
       "    </tr>\n",
       "    <tr>\n",
       "      <th>min</th>\n",
       "      <td>0.000000</td>\n",
       "      <td>0.000000</td>\n",
       "      <td>0.000000</td>\n",
       "      <td>0.000000</td>\n",
       "      <td>0.000000</td>\n",
       "      <td>0.000000</td>\n",
       "      <td>0.000000</td>\n",
       "    </tr>\n",
       "    <tr>\n",
       "      <th>25%</th>\n",
       "      <td>7.000000</td>\n",
       "      <td>3.000000</td>\n",
       "      <td>2.000000</td>\n",
       "      <td>4.000000</td>\n",
       "      <td>1.000000</td>\n",
       "      <td>2.000000</td>\n",
       "      <td>0.000000</td>\n",
       "    </tr>\n",
       "    <tr>\n",
       "      <th>50%</th>\n",
       "      <td>16.000000</td>\n",
       "      <td>12.000000</td>\n",
       "      <td>4.000000</td>\n",
       "      <td>11.000000</td>\n",
       "      <td>7.000000</td>\n",
       "      <td>3.000000</td>\n",
       "      <td>0.000000</td>\n",
       "    </tr>\n",
       "    <tr>\n",
       "      <th>75%</th>\n",
       "      <td>35.000000</td>\n",
       "      <td>30.000000</td>\n",
       "      <td>6.000000</td>\n",
       "      <td>25.000000</td>\n",
       "      <td>21.000000</td>\n",
       "      <td>5.000000</td>\n",
       "      <td>0.000000</td>\n",
       "    </tr>\n",
       "    <tr>\n",
       "      <th>max</th>\n",
       "      <td>644.000000</td>\n",
       "      <td>614.000000</td>\n",
       "      <td>83.000000</td>\n",
       "      <td>583.000000</td>\n",
       "      <td>560.000000</td>\n",
       "      <td>43.000000</td>\n",
       "      <td>2750.000000</td>\n",
       "    </tr>\n",
       "  </tbody>\n",
       "</table>\n",
       "</div>"
      ],
      "text/plain": [
       "       Total a Bordo  Pasajeros a Bordo  Tripulacion a Bordo  \\\n",
       "count    4991.000000        4787.000000          4789.000000   \n",
       "mean       31.138449          26.877376             4.519524   \n",
       "std        45.491146          44.035342             3.758072   \n",
       "min         0.000000           0.000000             0.000000   \n",
       "25%         7.000000           3.000000             2.000000   \n",
       "50%        16.000000          12.000000             4.000000   \n",
       "75%        35.000000          30.000000             6.000000   \n",
       "max       644.000000         614.000000            83.000000   \n",
       "\n",
       "       Cantidad de Fallecidos  Pasajeros Fallecidos  Tripulacion Fallecida  \\\n",
       "count             5000.000000           4773.000000            4773.000000   \n",
       "mean                22.368600             18.940708               3.587262   \n",
       "std                 35.128796             34.065190               3.177315   \n",
       "min                  0.000000              0.000000               0.000000   \n",
       "25%                  4.000000              1.000000               2.000000   \n",
       "50%                 11.000000              7.000000               3.000000   \n",
       "75%                 25.000000             21.000000               5.000000   \n",
       "max                583.000000            560.000000              43.000000   \n",
       "\n",
       "       Fallecidos en Tierra  \n",
       "count           4964.000000  \n",
       "mean               1.718372  \n",
       "std               55.495544  \n",
       "min                0.000000  \n",
       "25%                0.000000  \n",
       "50%                0.000000  \n",
       "75%                0.000000  \n",
       "max             2750.000000  "
      ]
     },
     "execution_count": 97,
     "metadata": {},
     "output_type": "execute_result"
    }
   ],
   "source": [
    "df_avion.describe()"
   ]
  },
  {
   "cell_type": "code",
   "execution_count": 98,
   "metadata": {},
   "outputs": [
    {
     "data": {
      "text/html": [
       "<div>\n",
       "<style scoped>\n",
       "    .dataframe tbody tr th:only-of-type {\n",
       "        vertical-align: middle;\n",
       "    }\n",
       "\n",
       "    .dataframe tbody tr th {\n",
       "        vertical-align: top;\n",
       "    }\n",
       "\n",
       "    .dataframe thead th {\n",
       "        text-align: right;\n",
       "    }\n",
       "</style>\n",
       "<table border=\"1\" class=\"dataframe\">\n",
       "  <thead>\n",
       "    <tr style=\"text-align: right;\">\n",
       "      <th></th>\n",
       "      <th>Fecha</th>\n",
       "      <th>Hora Declarada</th>\n",
       "      <th>Ruta</th>\n",
       "      <th>Operador</th>\n",
       "      <th>Tipo de Vuelo</th>\n",
       "      <th>Tipo de Aeronave</th>\n",
       "      <th>Matricula</th>\n",
       "      <th>CN/LN</th>\n",
       "      <th>Resumen</th>\n",
       "    </tr>\n",
       "  </thead>\n",
       "  <tbody>\n",
       "    <tr>\n",
       "      <th>count</th>\n",
       "      <td>5000</td>\n",
       "      <td>3504</td>\n",
       "      <td>4995</td>\n",
       "      <td>4990</td>\n",
       "      <td>4245</td>\n",
       "      <td>4989</td>\n",
       "      <td>4731</td>\n",
       "      <td>4341</td>\n",
       "      <td>4945</td>\n",
       "    </tr>\n",
       "    <tr>\n",
       "      <th>unique</th>\n",
       "      <td>4571</td>\n",
       "      <td>1060</td>\n",
       "      <td>4118</td>\n",
       "      <td>2267</td>\n",
       "      <td>3838</td>\n",
       "      <td>2465</td>\n",
       "      <td>4695</td>\n",
       "      <td>3907</td>\n",
       "      <td>4854</td>\n",
       "    </tr>\n",
       "    <tr>\n",
       "      <th>top</th>\n",
       "      <td>31-08-1988</td>\n",
       "      <td>15:00:00</td>\n",
       "      <td>Moscow, Russia</td>\n",
       "      <td>Aeroflot</td>\n",
       "      <td>Training</td>\n",
       "      <td>Douglas DC-3</td>\n",
       "      <td>49</td>\n",
       "      <td>1</td>\n",
       "      <td>Crashed under unknown circumstances.</td>\n",
       "    </tr>\n",
       "    <tr>\n",
       "      <th>freq</th>\n",
       "      <td>4</td>\n",
       "      <td>38</td>\n",
       "      <td>16</td>\n",
       "      <td>253</td>\n",
       "      <td>96</td>\n",
       "      <td>333</td>\n",
       "      <td>3</td>\n",
       "      <td>8</td>\n",
       "      <td>9</td>\n",
       "    </tr>\n",
       "  </tbody>\n",
       "</table>\n",
       "</div>"
      ],
      "text/plain": [
       "             Fecha Hora Declarada            Ruta  Operador Tipo de Vuelo  \\\n",
       "count         5000           3504            4995      4990          4245   \n",
       "unique        4571           1060            4118      2267          3838   \n",
       "top     31-08-1988       15:00:00  Moscow, Russia  Aeroflot      Training   \n",
       "freq             4             38              16       253            96   \n",
       "\n",
       "       Tipo de Aeronave Matricula CN/LN                               Resumen  \n",
       "count              4989      4731  4341                                  4945  \n",
       "unique             2465      4695  3907                                  4854  \n",
       "top        Douglas DC-3        49     1  Crashed under unknown circumstances.  \n",
       "freq                333         3     8                                     9  "
      ]
     },
     "execution_count": 98,
     "metadata": {},
     "output_type": "execute_result"
    }
   ],
   "source": [
    "df_avion.describe(include=['O'])"
   ]
  },
  {
   "cell_type": "markdown",
   "metadata": {},
   "source": [
    "# Matriz de correlación"
   ]
  },
  {
   "cell_type": "markdown",
   "metadata": {},
   "source": [
    "Vemos que hay una relación directa entre  los Pasajeros a Bordo y el Total a bordo, así como una relación directa entre Cantidad de Fallecidos y Pasajeros Fallecidos"
   ]
  },
  {
   "cell_type": "code",
   "execution_count": 99,
   "metadata": {},
   "outputs": [
    {
     "data": {
      "image/png": "[encoded data removed]",
      "text/plain": [
       "<Figure size 1000x800 with 2 Axes>"
      ]
     },
     "metadata": {},
     "output_type": "display_data"
    }
   ],
   "source": [
    "# Calcular la matriz de correlación\n",
    "correlation_matrix = df_avion.corr()\n",
    "\n",
    "# Visualizar la matriz de correlación como un mapa de calor\n",
    "plt.figure(figsize=(10, 8))\n",
    "sns.heatmap(correlation_matrix, annot=True, cmap='coolwarm', fmt=\".2f\")\n",
    "plt.title(\"Matriz de Correlación\")\n",
    "plt.show()"
   ]
  },
  {
   "cell_type": "markdown",
   "metadata": {},
   "source": [
    "# histogramas con las variables númericas"
   ]
  },
  {
   "cell_type": "markdown",
   "metadata": {},
   "source": [
    "podemos ver que en la mayoria de los accidentes ocurrieron con menos de 20 personas a bordo de la aeronave"
   ]
  },
  {
   "cell_type": "code",
   "execution_count": 101,
   "metadata": {},
   "outputs": [
    {
     "data": {
      "text/plain": [
       "<Figure size 1200x800 with 0 Axes>"
      ]
     },
     "metadata": {},
     "output_type": "display_data"
    },
    {
     "data": {
      "image/png": "[encoded data removed]",
      "text/plain": [
       "<Figure size 1200x800 with 6 Axes>"
      ]
     },
     "metadata": {},
     "output_type": "display_data"
    }
   ],
   "source": [
    "#histogramas\n",
    "plt.figure(figsize=(12, 8))\n",
    "df_avion.hist(column=['Total a Bordo', 'Pasajeros a Bordo', 'Tripulacion a Bordo', 'Cantidad de Fallecidos', 'Pasajeros Fallecidos', 'Tripulacion Fallecida'], bins=20, figsize=(12, 8))\n",
    "plt.show()"
   ]
  },
  {
   "cell_type": "markdown",
   "metadata": {},
   "source": [
    "Se observa una relación interesante entre la cantidad de fallecidos y el total de personas a bordo. Los vuelos con un número limitado de personas mostraron una variabilidad en la cantidad de fallecidos, mientras que en vuelos con una mayor cantidad de personas, se observaron casos extremos, con algunos vuelos sin sobrevivientes y otros con una tasa de supervivencia cercana al 100%"
   ]
  },
  {
   "cell_type": "code",
   "execution_count": 39,
   "metadata": {},
   "outputs": [
    {
     "data": {
      "image/png": "[encoded data removed]",
      "text/plain": [
       "<Figure size 1200x800 with 1 Axes>"
      ]
     },
     "metadata": {},
     "output_type": "display_data"
    }
   ],
   "source": [
    "plt.figure(figsize=(12, 8))\n",
    "plt.scatter(df_avion['Total a Bordo'], df_avion['Cantidad de Fallecidos'], alpha=0.5)\n",
    "plt.xlabel('Total a Bordo')\n",
    "plt.ylabel('Cantidad de Fallecidos')\n",
    "plt.title('Relación entre Cantidad de Fallecidos y Total a Bordo')\n",
    "plt.grid(True)\n",
    "plt.show()\n"
   ]
  },
  {
   "cell_type": "markdown",
   "metadata": {},
   "source": [
    "vemos que en la gran mayoria de los accidentes no hay fallecidos en tierra"
   ]
  },
  {
   "cell_type": "code",
   "execution_count": 40,
   "metadata": {},
   "outputs": [
    {
     "data": {
      "image/png": "[encoded data removed]",
      "text/plain": [
       "<Figure size 640x480 with 1 Axes>"
      ]
     },
     "metadata": {},
     "output_type": "display_data"
    }
   ],
   "source": [
    "# Contar la cantidad de casos con fallecidos en tierra y sin fallecidos en tierra\n",
    "casos_con_fallecidos_en_tierra = df_avion[df_avion['Fallecidos en Tierra'] > 0]\n",
    "casos_sin_fallecidos_en_tierra = df_avion[df_avion['Fallecidos en Tierra'] == 0]\n",
    "\n",
    "# Crear un gráfico de barras para comparar\n",
    "plt.bar(['Con Fallecidos en Tierra', 'Sin Fallecidos en Tierra'], [len(casos_con_fallecidos_en_tierra), len(casos_sin_fallecidos_en_tierra)], color=['red', 'green'])\n",
    "plt.xlabel('Categoría')\n",
    "plt.ylabel('Cantidad de Casos')\n",
    "plt.title('Comparación de Fallecidos en Tierra vs. Sin Fallecidos en Tierra')\n",
    "plt.show()"
   ]
  }
 ],
 "metadata": {
  "kernelspec": {
   "display_name": "base",
   "language": "python",
   "name": "python3"
  },
  "language_info": {
   "codemirror_mode": {
    "name": "ipython",
    "version": 3
   },
   "file_extension": ".py",
   "mimetype": "text/x-python",
   "name": "python",
   "nbconvert_exporter": "python",
   "pygments_lexer": "ipython3",
   "version": "3.11.3"
  },
  "orig_nbformat": 4
 },
 "nbformat": 4,
 "nbformat_minor": 2
}
